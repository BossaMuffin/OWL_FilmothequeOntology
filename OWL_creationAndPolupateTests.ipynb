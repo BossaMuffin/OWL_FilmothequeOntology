{
 "cells": [
  {
   "cell_type": "markdown",
   "metadata": {},
   "source": [
    "# SIO - OWL - TD3 - OWLREADY2"
   ]
  },
  {
   "cell_type": "markdown",
   "metadata": {},
   "source": [
    "## Préliminaires"
   ]
  },
  {
   "cell_type": "raw",
   "metadata": {},
   "source": [
    "Approche :\n",
    "1) Plutôt qu'un batch unique, qui réduirait le nombre de requêtes SPARQL, j'ai choisi de peupler mon ontologie de manière incrémentale et \"expérimentale\". Le but est pour moi de m'exercer à écrire des requête, dune part, et aussi de mieux cerner le fonctionnement, particulièrement les limites, de Owlready2, globalement OWL.\n",
    "2) Ne maitrisant pas les limite du NUNA, par manie, je vérifie après chaque peuplemnt qu'il n'y a pas eu de création de doublon d'instance."
   ]
  },
  {
   "cell_type": "raw",
   "metadata": {},
   "source": [
    "# Exemple de requête qui récupère toutes les informations en même temps\n",
    "# Nécessite ensuite un traitement en Python, par des boucles imbriquées \n",
    "# Une seule reqête mais un traitement plus lourd propice aux erreurs\n",
    "# NB : cette requête-ci ne distingue par les versions langagières des data properties \n",
    "\n",
    "PREFIX hal:<http://data.archives-ouvertes.fr/schema/>\n",
    "PREFIX dc: <http://purl.org/dc/terms/>\n",
    "PREFIX foaf: <http://xmlns.com/foaf/0.1/>\n",
    "\n",
    "SELECT ?paper ?aut_nom ?aut_prenom ?aut_web ?aut_mail ?aut_interets ?pap_titre ?pap_sstitre ?pap_resume\n",
    "WHERE {\n",
    "?paper hal:topic <https://data.archives-ouvertes.fr/subject/info.info-ai> .\n",
    "\n",
    "?paper dc:title ?pap_titre .\n",
    "OPTIONAL {?paper dc:abstract ?pap_resume}\n",
    "OPTIONAL {?paper dc:alternative ?pap_sstitre}\n",
    "?paper dc:creator ?node_auteur .\n",
    "\n",
    "?node_auteur hal:person ?auteur .\n",
    "?auteur foaf:familyName ?aut_nom .\n",
    "OPTIONAL {?auteur foaf:firstName ?aut_prenom}\n",
    "OPTIONAL {?auteur foaf:topic_interest ?aut_interets}\n",
    "OPTIONAL {?auteur foaf:mbox_sha1sum ?aut_mail}\n",
    "OPTIONAL {?auteur foaf:homepage ?aut_web}\n",
    "}"
   ]
  },
  {
   "cell_type": "raw",
   "metadata": {},
   "source": [
    "TODO :\n",
    "- intégrer les versions langagières des data properties car la plupart des metadata des publications n'ont pas de version française ;\n",
    "- fixer le renseignement des centres d'intérêt des personnes car pour l'instant il semble qu'une personne ne peut avoir qu'un centre d'intérêt ;\n",
    "- trouver le moyen de peupler les lecteurs..."
   ]
  },
  {
   "cell_type": "markdown",
   "metadata": {},
   "source": [
    "### Importer les bibliothèques utiles"
   ]
  },
  {
   "cell_type": "code",
   "execution_count": null,
   "metadata": {},
   "outputs": [],
   "source": [
    "from owlready2 import *\n",
    "from SPARQLWrapper import *\n",
    "\n",
    "# Change the following PATH if needed\n",
    "#owlready2.JAVA_EXE='C:/Program Files/Common Files/Oracle/Java/javapath/java.exe'"
   ]
  },
  {
   "cell_type": "markdown",
   "metadata": {},
   "source": [
    "### Hyperparamètres"
   ]
  },
  {
   "cell_type": "code",
   "execution_count": null,
   "metadata": {},
   "outputs": [],
   "source": [
    "owlready2.JAVA_EXE='/usr/bin/java'"
   ]
  },
  {
   "cell_type": "code",
   "execution_count": null,
   "metadata": {},
   "outputs": [],
   "source": [
    "# My ontology filename / préfixe pour les sauvegardes du peuplement\n",
    "ONTO_NAME = \"papiers_td3\"\n",
    "# Numéro identifiant la série de peuplement (pour éviter de supprimer les travux antérieurs\n",
    "ONTO_PEUPLE_ID = \"2\""
   ]
  },
  {
   "cell_type": "markdown",
   "metadata": {},
   "source": [
    "## Importer notre ontologie"
   ]
  },
  {
   "cell_type": "markdown",
   "metadata": {},
   "source": [
    "Ontologie \"papiers\" créée et modifiée avec Protégé"
   ]
  },
  {
   "cell_type": "code",
   "execution_count": null,
   "metadata": {},
   "outputs": [],
   "source": [
    "onto = get_ontology(f\"./{ONTO_NAME}.owl\").load() # chargement d'une ontologie existante"
   ]
  },
  {
   "cell_type": "markdown",
   "metadata": {},
   "source": [
    "## Analyse notre onthologie"
   ]
  },
  {
   "cell_type": "code",
   "execution_count": null,
   "metadata": {},
   "outputs": [],
   "source": [
    "# Avons-nous des classes inconsistantes ?\n",
    "print(list(onto.world.inconsistent_classes()))"
   ]
  },
  {
   "cell_type": "code",
   "execution_count": null,
   "metadata": {},
   "outputs": [],
   "source": [
    "for i in onto.classes() : \n",
    "    print(i)    "
   ]
  },
  {
   "cell_type": "code",
   "execution_count": null,
   "metadata": {},
   "outputs": [],
   "source": [
    "for i in onto.object_properties() : \n",
    "    print(i)    "
   ]
  },
  {
   "cell_type": "code",
   "execution_count": null,
   "metadata": {},
   "outputs": [],
   "source": [
    "for i in onto.data_properties() : \n",
    "    print(i)    "
   ]
  },
  {
   "cell_type": "code",
   "execution_count": null,
   "metadata": {},
   "outputs": [],
   "source": [
    "with onto:\n",
    "    print(onto.Personne.iri)"
   ]
  },
  {
   "cell_type": "markdown",
   "metadata": {},
   "source": [
    "## Ajouter des instances"
   ]
  },
  {
   "cell_type": "markdown",
   "metadata": {},
   "source": [
    "### Définir quelques individus"
   ]
  },
  {
   "cell_type": "code",
   "execution_count": null,
   "metadata": {},
   "outputs": [],
   "source": [
    "# Définition de quelques individus simple\n",
    "# instance des classes Personne et Publication\n",
    "with onto:\n",
    "    balth = onto.Personne(name='Balthazar') \n",
    "    pub1 = onto.Publication(name='TD3')\n",
    "    yolaine = onto.Personne(name='Yolaine')\n",
    "    balth.aLu= [pub1]\n",
    "    yolaine.aÉcrit = [pub1]"
   ]
  },
  {
   "cell_type": "markdown",
   "metadata": {},
   "source": [
    "### Vérifier la création des instances"
   ]
  },
  {
   "cell_type": "code",
   "execution_count": null,
   "metadata": {},
   "outputs": [],
   "source": [
    "with onto:\n",
    "    print(balth.iri)\n",
    "    print(yolaine.iri)\n",
    "    print(pub1.iri)"
   ]
  },
  {
   "cell_type": "markdown",
   "metadata": {},
   "source": [
    "### Tester la complétion des data properties"
   ]
  },
  {
   "cell_type": "code",
   "execution_count": null,
   "metadata": {},
   "outputs": [],
   "source": [
    "with onto:\n",
    "    balth.aPourInterets = [\"big data, machine learning, knowledge graph\"]\n",
    "    balth.aPourMail = [\"adresse@gmail.com\"]\n",
    "    balth.aPourNom = \"M.\"\n",
    "    balth.aPourPrenom = [\"Balthazar, J-E\"]\n",
    "    \n",
    "    yolaine.aPourInterets = [\"OWL, web semantic, inférences\"]\n",
    "    yolaine.aPourMail = [\"adresse@cs.fr\"]\n",
    "    yolaine.aPourNom = \"B.\"\n",
    "    yolaine.aPourPrenom = [\"Yolaine\"]\n",
    "    \n",
    "    pub1.aPourRésumé = [\"Le TD n°3 du cours OWL - Owlready2\"]\n",
    "    pub1.aPourTitre = [\"TD n°3\"]\n",
    "    pub1.aUnSousTitre = [\"Owlready2\"]"
   ]
  },
  {
   "cell_type": "markdown",
   "metadata": {},
   "source": [
    "### Tester l'existance d'une personne dans notre ontologie"
   ]
  },
  {
   "cell_type": "code",
   "execution_count": null,
   "metadata": {},
   "outputs": [],
   "source": [
    "# Préparer la requête\n",
    "onto_subject = ONTO_NAME + \":Yolaine\"\n",
    "onto_object = ONTO_NAME + \":Personne\"\n",
    "req = \"SELECT ?p WHERE {\" + onto_subject + \" ?p \" + onto_object + \".}\"\n",
    "\n",
    "# Executer la requête sur l'ontologie\n",
    "with onto:\n",
    "    r = list(default_world.sparql(req, error_on_undefined_entities=False))\n",
    "\n",
    "# Afficher le nombre de résultats (nombre de personnes avec ce même nom)\n",
    "if len(r) == 0:\n",
    "    print(f\"{onto_subject} n'existe pas pour l'instant\")\n",
    "elif len(r) == 1 :\n",
    "    print(f\"{onto_subject} existe déjà\")\n",
    "else :\n",
    "    print(f\"{onto_subject} existe de trop nombreuses fois ! \")\n",
    "    "
   ]
  },
  {
   "cell_type": "markdown",
   "metadata": {},
   "source": [
    "### Nettoyer ses individus tests"
   ]
  },
  {
   "cell_type": "code",
   "execution_count": null,
   "metadata": {},
   "outputs": [],
   "source": [
    "destroy_entity(balth)\n",
    "destroy_entity(yolaine)\n",
    "destroy_entity(pub1)"
   ]
  },
  {
   "cell_type": "code",
   "execution_count": null,
   "metadata": {},
   "outputs": [],
   "source": [
    "# sauvegarde\n",
    "onto.save(\"papiers_td3_peuple_\" + ONTO_PEUPLE_ID + \".owl\")"
   ]
  },
  {
   "cell_type": "markdown",
   "metadata": {},
   "source": [
    "## A partir de HAL"
   ]
  },
  {
   "cell_type": "markdown",
   "metadata": {},
   "source": [
    "## Peupler les auteurs et les publication du topic \"Ingénierie assistée par ordinateur\""
   ]
  },
  {
   "cell_type": "code",
   "execution_count": null,
   "metadata": {},
   "outputs": [],
   "source": [
    "# Le but ici est de récupérer toutes relations entre auteurs et publications\n",
    "# Nous compléterons les data properties plus loin\n",
    "sparql = SPARQLWrapper(\"http://sparql.archives-ouvertes.fr/sparql\")\n",
    "query = \"\"\"\n",
    "PREFIX hal:<http://data.archives-ouvertes.fr/schema/>\n",
    "PREFIX dc: <http://purl.org/dc/terms/>\n",
    "\n",
    "SELECT DISTINCT ?papier ?auteur\n",
    "WHERE {\n",
    "?papier hal:topic <https://data.archives-ouvertes.fr/subject/info.info-ai> .\n",
    "?papier dc:creator ?node_auteur .\n",
    "?node_auteur hal:person ?auteur .\n",
    "}\n",
    "\n",
    "\"\"\"\n",
    "sparql.setQuery(query)\n",
    "sparql.setReturnFormat(JSON)\n",
    "reponse = sparql.query().convert()\n",
    "\n",
    "print(\"\\tNombre d'individu :\\n\")\n",
    "print(len(reponse['results']['bindings']))\n",
    "print(\"\\tLa liste des champs récupérés :\\n\")\n",
    "print(reponse['head']['vars'])\n",
    "print(\"\\n\\tUn aperçu de la liste de tous les individus :\\n\")\n",
    "print(reponse['results']['bindings'][0:2])\n",
    "print(\"\\n\\tUn individu = une ligne = une valeur de la liste :\\n\")\n",
    "print(reponse['results']['bindings'][0])"
   ]
  },
  {
   "cell_type": "markdown",
   "metadata": {},
   "source": [
    "### Peuplement automatique de quelques individus"
   ]
  },
  {
   "cell_type": "code",
   "execution_count": null,
   "metadata": {},
   "outputs": [],
   "source": [
    "with onto:\n",
    "    for ligne in reponse['results']['bindings']:\n",
    "        \n",
    "        # Récupérer l'id à la fin de l'IRI dans HAL\n",
    "        author_id = ligne['auteur']['value'].split(\"/\")[-1]\n",
    "        paper_id = ligne['papier']['value'].split(\"/\")[-1]\n",
    "        \n",
    "        # Créer les instances avec ces id  comme \"name\" dans notre ontologie\n",
    "        auteur = onto.Personne(name=author_id)\n",
    "        publication = onto.Publication(name=paper_id)\n",
    "        \n",
    "        # Ajouter les IRI de HAL dans les data properties de notre ontologie\n",
    "        auteur.aPourIriExterne.append(ligne['auteur']['value'])\n",
    "        publication.aPourIriExterne.append(ligne['papier']['value'])\n",
    "        \n",
    "        # Créer la relation entre un auteur et sa publication\n",
    "        auteur.aÉcrit = [publication]"
   ]
  },
  {
   "cell_type": "code",
   "execution_count": null,
   "metadata": {},
   "outputs": [],
   "source": [
    "# sauvegarde\n",
    "onto.save(\"papiers_td3_peuple_\" + ONTO_PEUPLE_ID + \".owl\")"
   ]
  },
  {
   "cell_type": "markdown",
   "metadata": {},
   "source": [
    "### Verifier le peuplement"
   ]
  },
  {
   "cell_type": "code",
   "execution_count": null,
   "metadata": {},
   "outputs": [],
   "source": [
    "# Tester la relation \"telle personne a écrit telle publication\"\n",
    "onto_subject = ONTO_NAME + \":\" + reponse['results']['bindings'][0]['auteur']['value'].split(\"/\")[-1]\n",
    "onto_object = ONTO_NAME + \":\" + reponse['results']['bindings'][0]['papier']['value'].split(\"/\")[-1]\n",
    "\n",
    "# Préparer la requête\n",
    "req = \"SELECT ?p WHERE { \" + onto_subject  + \" ?p \" + onto_object + \".}\"\n",
    "\n",
    "with onto:\n",
    "    r = list(default_world.sparql(req, error_on_undefined_entities=False))\n",
    "\n",
    "print(f\"{onto_subject} est lié < {len(r)} > fois à {onto_object}\")\n",
    "print(\"Relations existantes : \", *r)\n",
    "    \n",
    "    "
   ]
  },
  {
   "cell_type": "markdown",
   "metadata": {},
   "source": [
    "## Peuplement de tous les auteurs des topics \"Computational Engineering, Finance, and Science\" et \"Ingénierie assistée par ordinateur\""
   ]
  },
  {
   "cell_type": "code",
   "execution_count": null,
   "metadata": {},
   "outputs": [],
   "source": [
    "# Le but ici est :\n",
    "# de compléter les data properties des individus auteurs du topic info-ia déjà peuplés\n",
    "# Par curiosité, de peupler l'ontologie avec des personnes qui ne sont pas forcément auteurs de publications info-ia\n",
    "# En effet, nous n'avons peupler qu'avec des auteurs de inof-ia\n",
    "\n",
    "sparql = SPARQLWrapper(\"http://sparql.archives-ouvertes.fr/sparql\")\n",
    "query = \"\"\"\n",
    "PREFIX hal:<http://data.archives-ouvertes.fr/schema/>\n",
    "PREFIX dc: <http://purl.org/dc/terms/>\n",
    "\n",
    "SELECT DISTINCT ?auteur ?aut_nom ?aut_prenom ?aut_mail ?aut_web\n",
    "WHERE {\n",
    "\n",
    "{ ?papier hal:topic <https://data.archives-ouvertes.fr/subject/info.info-ce> .}\n",
    "UNION\n",
    "{ ?papier hal:topic <https://data.archives-ouvertes.fr/subject/info.info-ai> .}\n",
    "?papier dc:creator ?node_auteur .\n",
    "\n",
    "?node_auteur hal:person ?auteur .\n",
    "?auteur foaf:familyName ?aut_nom .\n",
    "OPTIONAL {?auteur foaf:firstName ?aut_prenom}\n",
    "OPTIONAL {?auteur foaf:mbox_sha1sum ?aut_mail}\n",
    "OPTIONAL {?auteur foaf:homepage ?aut_web}\n",
    "}\n",
    "\"\"\"\n",
    "sparql.setQuery(query)\n",
    "sparql.setReturnFormat(JSON)\n",
    "reponse = sparql.query().convert()\n",
    "\n",
    "print(\"\\tNombre d'individus :\\n\")\n",
    "print(len(reponse['results']['bindings']))\n",
    "print(\"\\tLa liste des champs récupérés :\\n\")\n",
    "print(reponse['head']['vars'])\n",
    "print(\"\\n\\tUn aperçu de la liste de tous les individus :\\n\")\n",
    "print(reponse['results']['bindings'][0:2])\n",
    "print(\"\\n\\tUn individu = une ligne = une valeur de la liste :\\n\")\n",
    "print(reponse['results']['bindings'][0])"
   ]
  },
  {
   "cell_type": "markdown",
   "metadata": {},
   "source": [
    "### Peuplement automatique de quelques individus"
   ]
  },
  {
   "cell_type": "code",
   "execution_count": null,
   "metadata": {},
   "outputs": [],
   "source": [
    "with onto:\n",
    "    for ligne in reponse['results']['bindings']:\n",
    "        # Récupérer l'id à la fin de l'IRI dans HAL\n",
    "        author_id = ligne['auteur']['value'].split(\"/\")[-1]\n",
    "\n",
    "        # Créer les instances avec ces id  comme \"name\" dans notre ontologie\n",
    "        auteur = onto.Personne(name=author_id) \n",
    "        # Ajouter les IRI de HAL dans les data properties de notre ontologie\n",
    "        auteur.aPourIriExterne.append(ligne['auteur']['value'])\n",
    "\n",
    "        # Compléter les data properties de notre ontologie\n",
    "        # S'assurer de leur existence pour éviter les Exceptions TypeError\n",
    "        if 'aut_mail' in ligne :\n",
    "            auteur.aPourMail = [ligne['aut_mail']['value']]\n",
    "\n",
    "        if 'aut_nom' in ligne :\n",
    "            auteur.aPourNom = ligne['aut_nom']['value']\n",
    "\n",
    "        if 'aut_prenom' in ligne :\n",
    "            auteur.aPourPrenom = [ligne['aut_prenom']['value']]\n",
    "\n",
    "        if 'aut_web' in ligne :\n",
    "            auteur.aPourSiteWeb.append(ligne['aut_web']['value'])\n",
    "        "
   ]
  },
  {
   "cell_type": "markdown",
   "metadata": {},
   "source": [
    "### Vérifier le peuplement des individus"
   ]
  },
  {
   "cell_type": "code",
   "execution_count": null,
   "metadata": {},
   "outputs": [],
   "source": [
    "def isThereDuplicate(onto_name=ONTO_NAME, class_of_subject=\"Personne\"):\n",
    "    onto_object = ONTO_NAME + \":\" + class_of_subject \n",
    "    # Récupérer le nombre d'interet par \n",
    "    req = \"SELECT ?indiv WHERE { ?indiv a \" + onto_object + \".}\"\n",
    "    \n",
    "    with onto:\n",
    "        reponse_base = list(default_world.sparql(req))\n",
    "\n",
    "    # Récupérer le nombre d'individus distincts\n",
    "    req = \"SELECT DISTINCT ?indiv WHERE { ?indiv a \" + onto_object + \".} ORDER BY ?indiv\"\n",
    "    with onto:\n",
    "        reponse_distinct = list(default_world.sparql(req))\n",
    "    \n",
    "    nb_doublon = len(reponse_base) - len(reponse_distinct)\n",
    "    if nb_doublon != 0 :\n",
    "        return \"Il existe des doublons de \" + onto_object + \":\\n > \" + str(nb_doublon) + \" doublons\"\n",
    "\n",
    "    return \"Aucun doublon sur \" + onto_object"
   ]
  },
  {
   "cell_type": "code",
   "execution_count": null,
   "metadata": {},
   "outputs": [],
   "source": [
    "# Par manie, le but ici est de vérifier que nous n'avons pas injecté de doublon\n",
    "print(isThereDuplicate(class_of_subject=\"Personne\"))"
   ]
  },
  {
   "cell_type": "code",
   "execution_count": null,
   "metadata": {},
   "outputs": [],
   "source": [
    "# sauvegarde\n",
    "onto.save(\"papiers_td3_peuple_\" + ONTO_PEUPLE_ID + \".owl\")"
   ]
  },
  {
   "cell_type": "markdown",
   "metadata": {},
   "source": [
    "## Peuplement de toutes les publications des topics \"Informatique et théorie des jeux\" et \"Ingénierie assistée par ordinateur\""
   ]
  },
  {
   "cell_type": "code",
   "execution_count": null,
   "metadata": {},
   "outputs": [],
   "source": [
    "# Le but ici est :\n",
    "# de compléter les data properties des publications du topic info-ia déjà peuplé\n",
    "# de peupler l'ontologie avec des publications qui n'ont pas forcément d'auteurs (par curiosité)\n",
    "# En effet, dans notre premier peupement, seule les publications de info-ia ont un ou des auteurs identifiés\n",
    "\n",
    "sparql = SPARQLWrapper(\"http://sparql.archives-ouvertes.fr/sparql\")\n",
    "query = \"\"\"\n",
    "PREFIX hal:<http://data.archives-ouvertes.fr/schema/>\n",
    "PREFIX dc: <http://purl.org/dc/terms/>\n",
    "\n",
    "SELECT DISTINCT ?individu ?pap_titre ?pap_sstitre ?pap_resume\n",
    "WHERE {\n",
    "\n",
    "{ ?individu hal:topic <https://data.archives-ouvertes.fr/subject/info.info-gt> .}\n",
    "UNION\n",
    "{ ?individu hal:topic <https://data.archives-ouvertes.fr/subject/info.info-ai> .}\n",
    "\n",
    "?individu dc:title ?pap_titre .\n",
    "OPTIONAL {?individu dc:abstract ?pap_resume}\n",
    "OPTIONAL {?individu dc:alternative ?pap_sstitre}\n",
    "FILTER (LANG(?pap_resume)=\"fr\" && LANG(?pap_sstitre)=\"fr\")\n",
    "}\n",
    "\"\"\"\n",
    "sparql.setQuery(query)\n",
    "sparql.setReturnFormat(JSON)\n",
    "reponse = sparql.query().convert()\n",
    "\n",
    "print(\"\\tNombre d'individus :\\n\")\n",
    "print(len(reponse['results']['bindings']))\n",
    "print(\"\\tLa liste des champs récupérés :\\n\")\n",
    "print(reponse['head']['vars'])\n",
    "print(\"\\n\\tUn aperçu de la liste de tous les individus :\\n\")\n",
    "print(reponse['results']['bindings'][0:2])\n",
    "print(\"\\n\\tUn individu = une ligne = une valeur de la liste :\\n\")\n",
    "print(reponse['results']['bindings'][0])\n"
   ]
  },
  {
   "cell_type": "markdown",
   "metadata": {},
   "source": [
    "### Peuplement automatique des publications enrichies des data properties"
   ]
  },
  {
   "cell_type": "code",
   "execution_count": null,
   "metadata": {},
   "outputs": [],
   "source": [
    "with onto:\n",
    "    for ligne in reponse['results']['bindings']:\n",
    "        # Récupérer l'id à la fin de l'IRI dans HAL\n",
    "        individu_id = ligne['individu']['value'].split(\"/\")[-1]\n",
    "        \n",
    "        # Créer les instances avec ces id  comme \"name\" dans notre ontologie\n",
    "        individu = onto.Publication(name=individu_id) \n",
    "        # Ajouter les IRI de HAL dans les data properties de notre ontologie\n",
    "        individu.aPourIriExterne.append(ligne['individu']['value'])\n",
    "        \n",
    "        # Compléter les data properties de notre ontologie\n",
    "        # S'assurer de leur existence pour éviter les Exceptions TypeError\n",
    "        if 'pap_titre' in ligne :\n",
    "            individu.aPourTitre = [ligne['pap_titre']['value']]\n",
    "            \n",
    "        if 'pap_sstitre' in ligne :\n",
    "            individu.aPourSousTitre = [ligne['pap_sstitre']['value']]\n",
    "            \n",
    "        if 'pap_resume' in ligne :\n",
    "            individu.aPourSousTitre = [ligne['pap_resume']['value']]\n",
    "            "
   ]
  },
  {
   "cell_type": "markdown",
   "metadata": {},
   "source": [
    "### Vérifier le peuplement des publications"
   ]
  },
  {
   "cell_type": "code",
   "execution_count": null,
   "metadata": {},
   "outputs": [],
   "source": [
    "# Par manie, le but ici est de vérifier que nous n'avons pas injecté de doublon\n",
    "print(isThereDuplicate(class_of_subject=\"Publication\"))"
   ]
  },
  {
   "cell_type": "code",
   "execution_count": null,
   "metadata": {},
   "outputs": [],
   "source": [
    "# sauvegarde\n",
    "onto.save(\"papiers_td3_peuple_\" + ONTO_PEUPLE_ID + \".owl\")"
   ]
  },
  {
   "cell_type": "markdown",
   "metadata": {},
   "source": [
    "## Ajouter les intérêt aux personnes"
   ]
  },
  {
   "cell_type": "code",
   "execution_count": null,
   "metadata": {},
   "outputs": [],
   "source": [
    "# Le but ici est :\n",
    "# de compléter les data properties des personnes avec leurs intérêts\n",
    "\n",
    "sparql = SPARQLWrapper(\"http://sparql.archives-ouvertes.fr/sparql\")\n",
    "query = \"\"\"\n",
    "PREFIX hal:<http://data.archives-ouvertes.fr/schema/>\n",
    "PREFIX dc: <http://purl.org/dc/terms/>\n",
    "\n",
    "SELECT DISTINCT ?individu ?indiv_interets\n",
    "WHERE {\n",
    "\n",
    "{ ?papier hal:topic <https://data.archives-ouvertes.fr/subject/info.info-ce> .}\n",
    "UNION\n",
    "{ ?papier hal:topic <https://data.archives-ouvertes.fr/subject/info.info-ai> .}\n",
    "?papier dc:creator ?node_auteur .\n",
    "\n",
    "\n",
    "?node_auteur hal:person ?individu .\n",
    "OPTIONAL {?individu foaf:topic_interest ?indiv_interets}\n",
    "FILTER (LANG(?indiv_interets)=\"fr\")\n",
    "}\n",
    "\n",
    "ORDER BY ?individu\n",
    "\"\"\"\n",
    "\n",
    "\n",
    "sparql.setQuery(query)\n",
    "sparql.setReturnFormat(JSON)\n",
    "reponse = sparql.query().convert()\n",
    "\n",
    "print(\"\\tLa liste des champs récupérés :\\n\")\n",
    "print(reponse['head']['vars'])\n",
    "print(\"\\n\\tUn aperçu de la liste de tous les individus :\\n\")\n",
    "print(reponse['results']['bindings'][0:10])\n",
    "print(\"\\n\\tUn individu = une ligne = une valeur de la liste :\\n\")\n",
    "print(reponse['results']['bindings'][0])\n"
   ]
  },
  {
   "cell_type": "markdown",
   "metadata": {},
   "source": [
    "### Peuplement automatique des intérêts"
   ]
  },
  {
   "cell_type": "code",
   "execution_count": null,
   "metadata": {},
   "outputs": [],
   "source": [
    "with onto:\n",
    "    for ligne in reponse['results']['bindings']:\n",
    "        # Récupérer l'id à la fin de l'IRI dans HAL\n",
    "        individu_id = ligne['individu']['value'].split(\"/\")[-1]\n",
    "        \n",
    "        # Créer les instances avec ces id  comme \"name\" dans notre ontologie\n",
    "        individu = onto.Personne(name=individu_id) \n",
    "        # Ajouter les IRI de HAL dans les data properties de notre ontologie\n",
    "        individu.aPourIriExterne.append(ligne['individu']['value'])\n",
    "        \n",
    "        # Compléter les data properties de notre ontologie\n",
    "        # S'assurer de leur existence pour éviter les Exceptions TypeError\n",
    "        if 'indiv_interets' in ligne :\n",
    "            individu.aPourInterets = [ligne['indiv_interets']['value']]\n"
   ]
  },
  {
   "cell_type": "code",
   "execution_count": null,
   "metadata": {},
   "outputs": [],
   "source": [
    "# Par manie, le but ici est de vérifier que nous n'avons pas injecté de doublon   \n",
    "print(isThereDuplicate(\"Personne\"))"
   ]
  },
  {
   "cell_type": "code",
   "execution_count": null,
   "metadata": {},
   "outputs": [],
   "source": [
    "onto_object = ONTO_NAME + \":Personne\" \n",
    "onto_predicat = ONTO_NAME + \":aPourInterets\" \n",
    "# Récupérer le nombre d'interet par \n",
    "req = \"SELECT ?auteur ?interet WHERE\"\n",
    "req += \" { ?auteur a \" + onto_object + \". ?auteur \" + onto_predicat + \" ?interet.}\"\n",
    "req += \" ORDER BY ?auteur\"\n",
    "\n",
    "with onto:\n",
    "    reponse_base = list(default_world.sparql(req))\n",
    "\n",
    "# Récupérer le nombre d'individus distincts\n",
    "req = \"SELECT DISTINCT ?auteur ?interet WHERE \"\n",
    "req += \"{ ?auteur a \" + onto_object + \". ?auteur \" + onto_predicat + \" ?interet.}\"\n",
    "req += \"ORDER BY ?auteur\"\n",
    "with onto:\n",
    "    reponse_distinct = list(default_world.sparql(req))\n",
    "\n",
    "nb_doublon = len(reponse_base) - len(reponse_distinct)\n",
    "if nb_doublon != 0 :\n",
    "    print(\"Il existe des doublons de \" + onto_object + \":\\n > \" + str(nb_doublon) + \" doublons\")\n",
    "else:\n",
    "    print(\"Aucun doublon sur \" + onto_object + \":aPourInterets\")"
   ]
  },
  {
   "cell_type": "code",
   "execution_count": null,
   "metadata": {},
   "outputs": [],
   "source": [
    "# sauvegarde\n",
    "onto.save(\"papiers_td3_peuple_\" + ONTO_PEUPLE_ID + \".owl\")"
   ]
  },
  {
   "cell_type": "markdown",
   "metadata": {},
   "source": [
    "## Détruire mon objet onto"
   ]
  },
  {
   "cell_type": "code",
   "execution_count": null,
   "metadata": {},
   "outputs": [],
   "source": [
    "onto.destroy()"
   ]
  }
 ],
 "metadata": {
  "kernelspec": {
   "display_name": "Python 3 (ipykernel)",
   "language": "python",
   "name": "python3"
  },
  "language_info": {
   "codemirror_mode": {
    "name": "ipython",
    "version": 3
   },
   "file_extension": ".py",
   "mimetype": "text/x-python",
   "name": "python",
   "nbconvert_exporter": "python",
   "pygments_lexer": "ipython3",
   "version": "3.9.13"
  }
 },
 "nbformat": 4,
 "nbformat_minor": 4
}
